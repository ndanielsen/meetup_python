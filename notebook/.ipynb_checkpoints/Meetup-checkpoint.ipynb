{
 "cells": [
  {
   "cell_type": "code",
   "execution_count": 1,
   "metadata": {
    "collapsed": true
   },
   "outputs": [],
   "source": [
    "import requests"
   ]
  },
  {
   "cell_type": "code",
   "execution_count": 157,
   "metadata": {
    "collapsed": false
   },
   "outputs": [
    {
     "ename": "ValueError",
     "evalue": "Attempted relative import in non-package",
     "output_type": "error",
     "traceback": [
      "\u001b[0;31m---------------------------------------------------------------------------\u001b[0m",
      "\u001b[0;31mValueError\u001b[0m                                Traceback (most recent call last)",
      "\u001b[0;32m<ipython-input-157-42c3195599dc>\u001b[0m in \u001b[0;36m<module>\u001b[0;34m()\u001b[0m\n\u001b[0;32m----> 1\u001b[0;31m \u001b[0;32mfrom\u001b[0m \u001b[0;34m.\u001b[0m\u001b[0mkey\u001b[0m \u001b[0;32mimport\u001b[0m \u001b[0mlocal\u001b[0m\u001b[0;34m\u001b[0m\u001b[0m\n\u001b[0m",
      "\u001b[0;31mValueError\u001b[0m: Attempted relative import in non-package"
     ]
    }
   ],
   "source": [
    "from key import local"
   ]
  },
  {
   "cell_type": "code",
   "execution_count": 133,
   "metadata": {
    "collapsed": false
   },
   "outputs": [
    {
     "data": {
      "text/plain": [
       "'http://api.meetup.com//find/groups'"
      ]
     },
     "execution_count": 133,
     "metadata": {},
     "output_type": "execute_result"
    }
   ],
   "source": [
    "BASE = 'http://api.meetup.com/'\n",
    "BASE += '/find/groups'\n",
    "BASE"
   ]
  },
  {
   "cell_type": "code",
   "execution_count": 134,
   "metadata": {
    "collapsed": false
   },
   "outputs": [
    {
     "data": {
      "text/plain": [
       "[]"
      ]
     },
     "execution_count": 134,
     "metadata": {},
     "output_type": "execute_result"
    }
   ],
   "source": [
    "\n",
    "list_o_json"
   ]
  },
  {
   "cell_type": "code",
   "execution_count": null,
   "metadata": {
    "collapsed": true
   },
   "outputs": [],
   "source": []
  },
  {
   "cell_type": "code",
   "execution_count": 154,
   "metadata": {
    "collapsed": false
   },
   "outputs": [
    {
     "ename": "NameError",
     "evalue": "name 'local' is not defined",
     "output_type": "error",
     "traceback": [
      "\u001b[0;31m---------------------------------------------------------------------------\u001b[0m",
      "\u001b[0;31mNameError\u001b[0m                                 Traceback (most recent call last)",
      "\u001b[0;32m<ipython-input-154-6f6af64ed369>\u001b[0m in \u001b[0;36m<module>\u001b[0;34m()\u001b[0m\n\u001b[0;32m----> 1\u001b[0;31m \u001b[0mkey\u001b[0m \u001b[0;34m=\u001b[0m \u001b[0mlocal\u001b[0m\u001b[0;34m.\u001b[0m\u001b[0mkey\u001b[0m\u001b[0;34m\u001b[0m\u001b[0m\n\u001b[0m\u001b[1;32m      2\u001b[0m \u001b[0;34m\u001b[0m\u001b[0m\n\u001b[1;32m      3\u001b[0m \u001b[0mlist_o_json\u001b[0m \u001b[0;34m=\u001b[0m \u001b[0;34m[\u001b[0m\u001b[0;34m]\u001b[0m\u001b[0;34m\u001b[0m\u001b[0m\n\u001b[1;32m      4\u001b[0m payload = {'topic_id': '1064',\n\u001b[1;32m      5\u001b[0m           \u001b[0;34m'key'\u001b[0m\u001b[0;34m:\u001b[0m \u001b[0mkey\u001b[0m\u001b[0;34m,\u001b[0m\u001b[0;34m\u001b[0m\u001b[0m\n",
      "\u001b[0;31mNameError\u001b[0m: name 'local' is not defined"
     ]
    }
   ],
   "source": [
    "key = local.key\n",
    "\n",
    "list_o_json = []\n",
    "payload = {'topic_id': '1064',\n",
    "          'key': key,\n",
    "          'country': 'US',\n",
    "           'radius': 'global',\n",
    "           'page': '200',\n",
    "           'offset': 0,\n",
    "           'desc':'true'\n",
    "          }\n",
    "\n"
   ]
  },
  {
   "cell_type": "code",
   "execution_count": 132,
   "metadata": {
    "collapsed": false
   },
   "outputs": [
    {
     "data": {
      "text/plain": [
       "200"
      ]
     },
     "execution_count": 132,
     "metadata": {},
     "output_type": "execute_result"
    }
   ],
   "source": [
    "query = 200\n",
    "while query == 200:\n",
    "    r = requests.get(BASE, params=payload)\n",
    "    list_o_json += r.json()\n",
    "    query = len([l for l in r.json()])\n",
    "    payload['offset'] += 1\n",
    "    print 'query len result %s' % query"
   ]
  },
  {
   "cell_type": "code",
   "execution_count": null,
   "metadata": {
    "collapsed": false
   },
   "outputs": [],
   "source": []
  },
  {
   "cell_type": "code",
   "execution_count": 68,
   "metadata": {
    "collapsed": false,
    "scrolled": true
   },
   "outputs": [
    {
     "data": {
      "text/html": [
       "<div>\n",
       "<table border=\"1\" class=\"dataframe\">\n",
       "  <thead>\n",
       "    <tr style=\"text-align: right;\">\n",
       "      <th></th>\n",
       "      <th>category</th>\n",
       "      <th>city</th>\n",
       "      <th>country</th>\n",
       "      <th>created</th>\n",
       "      <th>description</th>\n",
       "      <th>group_photo</th>\n",
       "      <th>id</th>\n",
       "      <th>join_mode</th>\n",
       "      <th>lat</th>\n",
       "      <th>link</th>\n",
       "      <th>...</th>\n",
       "      <th>name</th>\n",
       "      <th>next_event</th>\n",
       "      <th>organizer</th>\n",
       "      <th>photos</th>\n",
       "      <th>score</th>\n",
       "      <th>state</th>\n",
       "      <th>timezone</th>\n",
       "      <th>urlname</th>\n",
       "      <th>visibility</th>\n",
       "      <th>who</th>\n",
       "    </tr>\n",
       "  </thead>\n",
       "  <tbody>\n",
       "  </tbody>\n",
       "</table>\n",
       "<p>0 rows × 22 columns</p>\n",
       "</div>"
      ],
      "text/plain": [
       "Empty DataFrame\n",
       "Columns: [category, city, country, created, description, group_photo, id, join_mode, lat, link, lon, members, name, next_event, organizer, photos, score, state, timezone, urlname, visibility, who]\n",
       "Index: []\n",
       "\n",
       "[0 rows x 22 columns]"
      ]
     },
     "execution_count": 68,
     "metadata": {},
     "output_type": "execute_result"
    }
   ],
   "source": []
  },
  {
   "cell_type": "code",
   "execution_count": 138,
   "metadata": {
    "collapsed": false
   },
   "outputs": [],
   "source": [
    "df = pd.DataFrame(list_o_json)"
   ]
  },
  {
   "cell_type": "code",
   "execution_count": 149,
   "metadata": {
    "collapsed": false
   },
   "outputs": [
    {
     "data": {
      "text/plain": [
       "city\n",
       "New York            75382\n",
       "San Francisco       72529\n",
       "Mountain View       27998\n",
       "Cambridge           20012\n",
       "London              18357\n",
       "Washington          12514\n",
       "Austin              11336\n",
       "Paris               10999\n",
       "Palo Alto           10757\n",
       "Boston               8844\n",
       "Seattle              8784\n",
       "Bangalore            8013\n",
       "Berlin               7837\n",
       "Sunnyvale            7787\n",
       "Toronto              7784\n",
       "Tel Aviv-Yafo        7469\n",
       "Los Angeles          6846\n",
       "Portland             6735\n",
       "Melbourne            6645\n",
       "Santa Monica         6555\n",
       "Vancouver            6480\n",
       "Atlanta              5930\n",
       "Chicago              5928\n",
       "Delhi                5727\n",
       "Stockholm            5464\n",
       "Sydney               5019\n",
       "Dublin               4910\n",
       "São Paulo            4645\n",
       "Minneapolis          4405\n",
       "Madrid               4170\n",
       "                    ...  \n",
       "Mendoza                24\n",
       "Mahone Bay             23\n",
       "Matamoros              22\n",
       "Winter Park            22\n",
       "Karlsruhe              21\n",
       "Ravensburg             20\n",
       "Bilbao                 19\n",
       "Bratislava             19\n",
       "Sale                   19\n",
       "Fisciano               19\n",
       "Manhattan              19\n",
       "Catania                19\n",
       "Puebla                 18\n",
       "Victoria               18\n",
       "Bucharest              18\n",
       "Georgetown             17\n",
       "Huntington Beach       17\n",
       "Plettenberg Bay        15\n",
       "Alingsås               15\n",
       "Szczecin               15\n",
       "Fort Worth             15\n",
       "Addis Abeba            14\n",
       "Puerto Vallarta        13\n",
       "Lincoln                13\n",
       "Porterville            12\n",
       "Santarém               11\n",
       "Sofia                   8\n",
       "Cagliari                8\n",
       "Nelson                  7\n",
       "Coeur D Alene           2\n",
       "Name: members, dtype: int64"
      ]
     },
     "execution_count": 149,
     "metadata": {},
     "output_type": "execute_result"
    }
   ],
   "source": [
    "df.groupby('city').members.sum().sort_values(ascending=False)"
   ]
  },
  {
   "cell_type": "code",
   "execution_count": 152,
   "metadata": {
    "collapsed": false
   },
   "outputs": [
    {
     "data": {
      "text/plain": [
       "city\n",
       "San Francisco       59\n",
       "New York            53\n",
       "London              28\n",
       "Austin              20\n",
       "Berlin              20\n",
       "Chicago             18\n",
       "Paris               17\n",
       "Toronto             16\n",
       "Bangalore           15\n",
       "Cambridge           14\n",
       "Seattle             14\n",
       "Atlanta             13\n",
       "Melbourne           12\n",
       "Washington          12\n",
       "Sydney              11\n",
       "São Paulo           11\n",
       "Boston              11\n",
       "Los Angeles         11\n",
       "Barcelona           10\n",
       "Dublin              10\n",
       "México City         10\n",
       "Portland            10\n",
       "Minneapolis         10\n",
       "Amsterdam           10\n",
       "Montréal             9\n",
       "Vienna               9\n",
       "Hyderabad            9\n",
       "Santa Monica         8\n",
       "Philadelphia         8\n",
       "München              8\n",
       "                    ..\n",
       "Krasnodar            1\n",
       "Princeton            1\n",
       "Providence           1\n",
       "Knoxville            1\n",
       "Kingston             1\n",
       "Kelowna              1\n",
       "Kazan                1\n",
       "Provo                1\n",
       "Karlsruhe            1\n",
       "Karachi              1\n",
       "Kaohsiung            1\n",
       "Puebla               1\n",
       "Kakinada             1\n",
       "Juiz de Fora         1\n",
       "Puerto Madryn        1\n",
       "Jerusalem            1\n",
       "Puerto Vallarta      1\n",
       "Quakertown           1\n",
       "Jacksonville         1\n",
       "Irving               1\n",
       "Ravensburg           1\n",
       "Ipswich              1\n",
       "Indianapolis         1\n",
       "Redondo Beach        1\n",
       "Redwood City         1\n",
       "Huntsville           1\n",
       "Huntington Beach     1\n",
       "Hualian              1\n",
       "Hsinchu              1\n",
       "Aachen               1\n",
       "Name: city, dtype: int64"
      ]
     },
     "execution_count": 152,
     "metadata": {},
     "output_type": "execute_result"
    }
   ],
   "source": [
    "df.groupby('city').city.count().sort_values(ascending=False)"
   ]
  },
  {
   "cell_type": "code",
   "execution_count": 153,
   "metadata": {
    "collapsed": false
   },
   "outputs": [],
   "source": [
    "df.to_pickle('meetup.pickle')"
   ]
  },
  {
   "cell_type": "code",
   "execution_count": 158,
   "metadata": {
    "collapsed": true
   },
   "outputs": [],
   "source": [
    "df.to_json('pythonmeetup.json')"
   ]
  },
  {
   "cell_type": "code",
   "execution_count": null,
   "metadata": {
    "collapsed": true
   },
   "outputs": [],
   "source": []
  }
 ],
 "metadata": {
  "kernelspec": {
   "display_name": "Python 2",
   "language": "python",
   "name": "python2"
  },
  "language_info": {
   "codemirror_mode": {
    "name": "ipython",
    "version": 2
   },
   "file_extension": ".py",
   "mimetype": "text/x-python",
   "name": "python",
   "nbconvert_exporter": "python",
   "pygments_lexer": "ipython2",
   "version": "2.7.10"
  }
 },
 "nbformat": 4,
 "nbformat_minor": 0
}
