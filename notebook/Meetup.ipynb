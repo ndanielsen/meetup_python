{
 "cells": [
  {
   "cell_type": "code",
   "execution_count": 1,
   "metadata": {
    "collapsed": true
   },
   "outputs": [],
   "source": [
    "import requests"
   ]
  },
  {
   "cell_type": "code",
   "execution_count": null,
   "metadata": {
    "collapsed": true
   },
   "outputs": [],
   "source": []
  },
  {
   "cell_type": "code",
   "execution_count": 133,
   "metadata": {
    "collapsed": false
   },
   "outputs": [
    {
     "data": {
      "text/plain": [
       "'http://api.meetup.com//find/groups'"
      ]
     },
     "execution_count": 133,
     "metadata": {},
     "output_type": "execute_result"
    }
   ],
   "source": [
    "BASE = 'http://api.meetup.com/'\n",
    "BASE += '/find/groups'\n",
    "BASE"
   ]
  },
  {
   "cell_type": "code",
   "execution_count": 134,
   "metadata": {
    "collapsed": false
   },
   "outputs": [
    {
     "data": {
      "text/plain": [
       "[]"
      ]
     },
     "execution_count": 134,
     "metadata": {},
     "output_type": "execute_result"
    }
   ],
   "source": [
    "\n",
    "list_o_json"
   ]
  },
  {
   "cell_type": "code",
   "execution_count": null,
   "metadata": {
    "collapsed": true
   },
   "outputs": [],
   "source": []
  },
  {
   "cell_type": "code",
   "execution_count": 136,
   "metadata": {
    "collapsed": false
   },
   "outputs": [
    {
     "name": "stdout",
     "output_type": "stream",
     "text": [
      "query len result 200\n",
      "query len result 200\n",
      "query len result 200\n",
      "query len result 200\n",
      "query len result 200\n",
      "query len result 200\n",
      "query len result 102\n"
     ]
    }
   ],
   "source": [
    "list_o_json = []\n",
    "payload = {'topic_id': '1064',\n",
    "          'key': '524b3f5724127522314b6246324b6352',\n",
    "          'country': 'US',\n",
    "           'radius': 'global',\n",
    "           'page': '200',\n",
    "           'offset': 0,\n",
    "           'desc':'true'\n",
    "          }\n",
    "\n",
    "query = 200\n",
    "while query == 200:\n",
    "    r = requests.get(BASE, params=payload)\n",
    "    list_o_json += r.json()\n",
    "    query = len([l for l in r.json()])\n",
    "    payload['offset'] += 1\n",
    "    print 'query len result %s' % query"
   ]
  },
  {
   "cell_type": "code",
   "execution_count": 132,
   "metadata": {
    "collapsed": false
   },
   "outputs": [
    {
     "data": {
      "text/plain": [
       "200"
      ]
     },
     "execution_count": 132,
     "metadata": {},
     "output_type": "execute_result"
    }
   ],
   "source": [
    "\n",
    "query"
   ]
  },
  {
   "cell_type": "code",
   "execution_count": null,
   "metadata": {
    "collapsed": false
   },
   "outputs": [],
   "source": []
  },
  {
   "cell_type": "code",
   "execution_count": 68,
   "metadata": {
    "collapsed": false,
    "scrolled": true
   },
   "outputs": [
    {
     "data": {
      "text/html": [
       "<div>\n",
       "<table border=\"1\" class=\"dataframe\">\n",
       "  <thead>\n",
       "    <tr style=\"text-align: right;\">\n",
       "      <th></th>\n",
       "      <th>category</th>\n",
       "      <th>city</th>\n",
       "      <th>country</th>\n",
       "      <th>created</th>\n",
       "      <th>description</th>\n",
       "      <th>group_photo</th>\n",
       "      <th>id</th>\n",
       "      <th>join_mode</th>\n",
       "      <th>lat</th>\n",
       "      <th>link</th>\n",
       "      <th>...</th>\n",
       "      <th>name</th>\n",
       "      <th>next_event</th>\n",
       "      <th>organizer</th>\n",
       "      <th>photos</th>\n",
       "      <th>score</th>\n",
       "      <th>state</th>\n",
       "      <th>timezone</th>\n",
       "      <th>urlname</th>\n",
       "      <th>visibility</th>\n",
       "      <th>who</th>\n",
       "    </tr>\n",
       "  </thead>\n",
       "  <tbody>\n",
       "  </tbody>\n",
       "</table>\n",
       "<p>0 rows × 22 columns</p>\n",
       "</div>"
      ],
      "text/plain": [
       "Empty DataFrame\n",
       "Columns: [category, city, country, created, description, group_photo, id, join_mode, lat, link, lon, members, name, next_event, organizer, photos, score, state, timezone, urlname, visibility, who]\n",
       "Index: []\n",
       "\n",
       "[0 rows x 22 columns]"
      ]
     },
     "execution_count": 68,
     "metadata": {},
     "output_type": "execute_result"
    }
   ],
   "source": []
  },
  {
   "cell_type": "code",
   "execution_count": 138,
   "metadata": {
    "collapsed": false
   },
   "outputs": [],
   "source": [
    "df = pd.DataFrame(list_o_json)"
   ]
  },
  {
   "cell_type": "code",
   "execution_count": 149,
   "metadata": {
    "collapsed": false
   },
   "outputs": [
    {
     "data": {
      "text/plain": [
       "city\n",
       "New York            75382\n",
       "San Francisco       72529\n",
       "Mountain View       27998\n",
       "Cambridge           20012\n",
       "London              18357\n",
       "Washington          12514\n",
       "Austin              11336\n",
       "Paris               10999\n",
       "Palo Alto           10757\n",
       "Boston               8844\n",
       "Seattle              8784\n",
       "Bangalore            8013\n",
       "Berlin               7837\n",
       "Sunnyvale            7787\n",
       "Toronto              7784\n",
       "Tel Aviv-Yafo        7469\n",
       "Los Angeles          6846\n",
       "Portland             6735\n",
       "Melbourne            6645\n",
       "Santa Monica         6555\n",
       "Vancouver            6480\n",
       "Atlanta              5930\n",
       "Chicago              5928\n",
       "Delhi                5727\n",
       "Stockholm            5464\n",
       "Sydney               5019\n",
       "Dublin               4910\n",
       "São Paulo            4645\n",
       "Minneapolis          4405\n",
       "Madrid               4170\n",
       "                    ...  \n",
       "Mendoza                24\n",
       "Mahone Bay             23\n",
       "Matamoros              22\n",
       "Winter Park            22\n",
       "Karlsruhe              21\n",
       "Ravensburg             20\n",
       "Bilbao                 19\n",
       "Bratislava             19\n",
       "Sale                   19\n",
       "Fisciano               19\n",
       "Manhattan              19\n",
       "Catania                19\n",
       "Puebla                 18\n",
       "Victoria               18\n",
       "Bucharest              18\n",
       "Georgetown             17\n",
       "Huntington Beach       17\n",
       "Plettenberg Bay        15\n",
       "Alingsås               15\n",
       "Szczecin               15\n",
       "Fort Worth             15\n",
       "Addis Abeba            14\n",
       "Puerto Vallarta        13\n",
       "Lincoln                13\n",
       "Porterville            12\n",
       "Santarém               11\n",
       "Sofia                   8\n",
       "Cagliari                8\n",
       "Nelson                  7\n",
       "Coeur D Alene           2\n",
       "Name: members, dtype: int64"
      ]
     },
     "execution_count": 149,
     "metadata": {},
     "output_type": "execute_result"
    }
   ],
   "source": [
    "df.groupby('city').members.sum().sort_values(ascending=False)"
   ]
  },
  {
   "cell_type": "code",
   "execution_count": 151,
   "metadata": {
    "collapsed": false
   },
   "outputs": [
    {
     "data": {
      "text/plain": [
       "city\n",
       "Aachen               1\n",
       "Aberdeen             1\n",
       "Abu Dhabi            1\n",
       "Accra                1\n",
       "Addis Abeba          1\n",
       "Addison              2\n",
       "Adelaide             2\n",
       "Ahmedabad            5\n",
       "Albuquerque          2\n",
       "Alingsås             1\n",
       "Allston              1\n",
       "Ames                 1\n",
       "Amsterdam           10\n",
       "Ann Arbor            2\n",
       "Arlington            3\n",
       "Asheville            1\n",
       "Asunción             1\n",
       "Athens               3\n",
       "Atlanta             13\n",
       "Auckland             2\n",
       "Aurangabad           1\n",
       "Aurora               1\n",
       "Austin              20\n",
       "Bacolod              1\n",
       "Baltimore            3\n",
       "Bangalore           15\n",
       "Bangkok              3\n",
       "Barcelona           10\n",
       "Barranquilla         1\n",
       "Basel                2\n",
       "                    ..\n",
       "Vadodara             1\n",
       "Valencia             2\n",
       "Vancouver            6\n",
       "Varanasi             1\n",
       "Victoria             1\n",
       "Vienna               9\n",
       "Vilnius              1\n",
       "Vinnytsya            1\n",
       "Viña del Mar         1\n",
       "Walnut Creek         1\n",
       "Warsaw               5\n",
       "Washington          12\n",
       "Waterloo             3\n",
       "Wellington           3\n",
       "West Palm Beach      1\n",
       "Westlake Village     1\n",
       "Wheaton              1\n",
       "Winnipeg             1\n",
       "Winston Salem        1\n",
       "Winter Park          1\n",
       "Worcester            1\n",
       "Wroclaw              2\n",
       "Yaoundé              1\n",
       "Yorktown             1\n",
       "Zagreb               2\n",
       "Zürich               3\n",
       "al-Kuwayt            1\n",
       "ar-Ribat             1\n",
       "az-Zahran            1\n",
       "Łódź                 2\n",
       "Name: city, dtype: int64"
      ]
     },
     "execution_count": 151,
     "metadata": {},
     "output_type": "execute_result"
    }
   ],
   "source": [
    "df.groupby('city').city.count().sort_values(ascending=)"
   ]
  },
  {
   "cell_type": "code",
   "execution_count": null,
   "metadata": {
    "collapsed": false
   },
   "outputs": [],
   "source": []
  },
  {
   "cell_type": "code",
   "execution_count": null,
   "metadata": {
    "collapsed": true
   },
   "outputs": [],
   "source": []
  }
 ],
 "metadata": {
  "kernelspec": {
   "display_name": "Python 2",
   "language": "python",
   "name": "python2"
  },
  "language_info": {
   "codemirror_mode": {
    "name": "ipython",
    "version": 2
   },
   "file_extension": ".py",
   "mimetype": "text/x-python",
   "name": "python",
   "nbconvert_exporter": "python",
   "pygments_lexer": "ipython2",
   "version": "2.7.10"
  }
 },
 "nbformat": 4,
 "nbformat_minor": 0
}
